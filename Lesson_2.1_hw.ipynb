{
 "cells": [
  {
   "cell_type": "code",
   "execution_count": 54,
   "id": "2739c8e1",
   "metadata": {},
   "outputs": [],
   "source": [
    "import pandas as pd\n",
    "from random import randint\n",
    "import math\n",
    "from scipy import integrate\n",
    "import matplotlib.pyplot as plt\n",
    "import numpy as np"
   ]
  },
  {
   "cell_type": "code",
   "execution_count": 53,
   "id": "65229f79",
   "metadata": {},
   "outputs": [],
   "source": [
    "df = pd.read_csv('Airplane_Crashes_and_Fatalities_Since_1908.csv')"
   ]
  },
  {
   "cell_type": "code",
   "execution_count": 4,
   "id": "a1c4eaa2",
   "metadata": {},
   "outputs": [
    {
     "data": {
      "text/html": [
       "<div>\n",
       "<style scoped>\n",
       "    .dataframe tbody tr th:only-of-type {\n",
       "        vertical-align: middle;\n",
       "    }\n",
       "\n",
       "    .dataframe tbody tr th {\n",
       "        vertical-align: top;\n",
       "    }\n",
       "\n",
       "    .dataframe thead th {\n",
       "        text-align: right;\n",
       "    }\n",
       "</style>\n",
       "<table border=\"1\" class=\"dataframe\">\n",
       "  <thead>\n",
       "    <tr style=\"text-align: right;\">\n",
       "      <th></th>\n",
       "      <th>index</th>\n",
       "      <th>Aboard</th>\n",
       "      <th>Fatalities</th>\n",
       "      <th>Ground</th>\n",
       "    </tr>\n",
       "  </thead>\n",
       "  <tbody>\n",
       "    <tr>\n",
       "      <th>count</th>\n",
       "      <td>5268.00000</td>\n",
       "      <td>5246.000000</td>\n",
       "      <td>5256.000000</td>\n",
       "      <td>5246.000000</td>\n",
       "    </tr>\n",
       "    <tr>\n",
       "      <th>mean</th>\n",
       "      <td>2633.50000</td>\n",
       "      <td>27.554518</td>\n",
       "      <td>20.068303</td>\n",
       "      <td>1.608845</td>\n",
       "    </tr>\n",
       "    <tr>\n",
       "      <th>std</th>\n",
       "      <td>1520.88494</td>\n",
       "      <td>43.076711</td>\n",
       "      <td>33.199952</td>\n",
       "      <td>53.987827</td>\n",
       "    </tr>\n",
       "    <tr>\n",
       "      <th>min</th>\n",
       "      <td>0.00000</td>\n",
       "      <td>0.000000</td>\n",
       "      <td>0.000000</td>\n",
       "      <td>0.000000</td>\n",
       "    </tr>\n",
       "    <tr>\n",
       "      <th>25%</th>\n",
       "      <td>1316.75000</td>\n",
       "      <td>5.000000</td>\n",
       "      <td>3.000000</td>\n",
       "      <td>0.000000</td>\n",
       "    </tr>\n",
       "    <tr>\n",
       "      <th>50%</th>\n",
       "      <td>2633.50000</td>\n",
       "      <td>13.000000</td>\n",
       "      <td>9.000000</td>\n",
       "      <td>0.000000</td>\n",
       "    </tr>\n",
       "    <tr>\n",
       "      <th>75%</th>\n",
       "      <td>3950.25000</td>\n",
       "      <td>30.000000</td>\n",
       "      <td>23.000000</td>\n",
       "      <td>0.000000</td>\n",
       "    </tr>\n",
       "    <tr>\n",
       "      <th>max</th>\n",
       "      <td>5267.00000</td>\n",
       "      <td>644.000000</td>\n",
       "      <td>583.000000</td>\n",
       "      <td>2750.000000</td>\n",
       "    </tr>\n",
       "  </tbody>\n",
       "</table>\n",
       "</div>"
      ],
      "text/plain": [
       "            index       Aboard   Fatalities       Ground\n",
       "count  5268.00000  5246.000000  5256.000000  5246.000000\n",
       "mean   2633.50000    27.554518    20.068303     1.608845\n",
       "std    1520.88494    43.076711    33.199952    53.987827\n",
       "min       0.00000     0.000000     0.000000     0.000000\n",
       "25%    1316.75000     5.000000     3.000000     0.000000\n",
       "50%    2633.50000    13.000000     9.000000     0.000000\n",
       "75%    3950.25000    30.000000    23.000000     0.000000\n",
       "max    5267.00000   644.000000   583.000000  2750.000000"
      ]
     },
     "execution_count": 4,
     "metadata": {},
     "output_type": "execute_result"
    }
   ],
   "source": [
    "df.describe()"
   ]
  },
  {
   "cell_type": "code",
   "execution_count": 5,
   "id": "d756c5fb",
   "metadata": {},
   "outputs": [
    {
     "name": "stdout",
     "output_type": "stream",
     "text": [
      "<class 'pandas.core.frame.DataFrame'>\n",
      "RangeIndex: 5268 entries, 0 to 5267\n",
      "Data columns (total 14 columns):\n",
      " #   Column        Non-Null Count  Dtype  \n",
      "---  ------        --------------  -----  \n",
      " 0   index         5268 non-null   int64  \n",
      " 1   Date          5268 non-null   object \n",
      " 2   Time          3049 non-null   object \n",
      " 3   Location      5248 non-null   object \n",
      " 4   Operator      5250 non-null   object \n",
      " 5   Flight #      1069 non-null   object \n",
      " 6   Route         3562 non-null   object \n",
      " 7   Type          5241 non-null   object \n",
      " 8   Registration  4933 non-null   object \n",
      " 9   cn/In         4040 non-null   object \n",
      " 10  Aboard        5246 non-null   float64\n",
      " 11  Fatalities    5256 non-null   float64\n",
      " 12  Ground        5246 non-null   float64\n",
      " 13  Summary       4878 non-null   object \n",
      "dtypes: float64(3), int64(1), object(10)\n",
      "memory usage: 576.3+ KB\n"
     ]
    }
   ],
   "source": [
    "df.info()"
   ]
  },
  {
   "cell_type": "code",
   "execution_count": 6,
   "id": "7bcb8f3e",
   "metadata": {},
   "outputs": [
    {
     "data": {
      "text/plain": [
       "'07/12/1912'"
      ]
     },
     "execution_count": 6,
     "metadata": {},
     "output_type": "execute_result"
    }
   ],
   "source": [
    "df.iloc[1]['Date']"
   ]
  },
  {
   "cell_type": "code",
   "execution_count": 7,
   "id": "f01c4e7f",
   "metadata": {},
   "outputs": [],
   "source": [
    "import numpy as np"
   ]
  },
  {
   "cell_type": "code",
   "execution_count": 8,
   "id": "7cfbf29d",
   "metadata": {},
   "outputs": [],
   "source": [
    "arr1 = np.zeros(10)"
   ]
  },
  {
   "cell_type": "code",
   "execution_count": 9,
   "id": "cb4034de",
   "metadata": {},
   "outputs": [],
   "source": [
    "arr2 = np.zeros(10)\n"
   ]
  },
  {
   "cell_type": "code",
   "execution_count": 10,
   "id": "35716d64",
   "metadata": {},
   "outputs": [],
   "source": [
    "for i in range(10):\n",
    "    arr2[i] = 5.8\n"
   ]
  },
  {
   "cell_type": "code",
   "execution_count": 11,
   "id": "ad03dadd",
   "metadata": {},
   "outputs": [],
   "source": [
    "arr3 = np.zeros((3,3))"
   ]
  },
  {
   "cell_type": "code",
   "execution_count": 12,
   "id": "e62a3275",
   "metadata": {},
   "outputs": [],
   "source": [
    "arr4 = np.zeros((8,8))"
   ]
  },
  {
   "cell_type": "code",
   "execution_count": 13,
   "id": "6369255b",
   "metadata": {},
   "outputs": [],
   "source": [
    "mass = [1,0]\n",
    "for i in range(8):\n",
    "    mass = mass[::-1]\n",
    "    for j in range(8):\n",
    "        arr4[i][j] = mass[0]\n",
    "        mass = mass[::-1]\n",
    "\n",
    "\n",
    "        "
   ]
  },
  {
   "cell_type": "code",
   "execution_count": null,
   "id": "91673bd3",
   "metadata": {},
   "outputs": [],
   "source": []
  },
  {
   "cell_type": "code",
   "execution_count": 14,
   "id": "acc8294e",
   "metadata": {},
   "outputs": [],
   "source": [
    "arr5 = np.zeros((4, 4))"
   ]
  },
  {
   "cell_type": "code",
   "execution_count": 15,
   "id": "9b5df87e",
   "metadata": {},
   "outputs": [],
   "source": [
    "for i in range(4):\n",
    "    for j in range(4):\n",
    "        arr5[i][j] = randint(1, 90)\n"
   ]
  },
  {
   "cell_type": "code",
   "execution_count": 16,
   "id": "0f8fec52",
   "metadata": {},
   "outputs": [],
   "source": [
    "f1 = lambda x: math.sin(x) * x**2"
   ]
  },
  {
   "cell_type": "code",
   "execution_count": 55,
   "id": "7cd4b0e8",
   "metadata": {
    "scrolled": true
   },
   "outputs": [
    {
     "data": {
      "text/plain": [
       "(63.57192010714263, 2.1778037844715755e-12)"
      ]
     },
     "execution_count": 55,
     "metadata": {},
     "output_type": "execute_result"
    }
   ],
   "source": [
    "integrate.quad(f1, -3, 10)"
   ]
  },
  {
   "cell_type": "code",
   "execution_count": null,
   "id": "d0501032",
   "metadata": {},
   "outputs": [],
   "source": [
    "opr = scipy.linalg.det(arr5)"
   ]
  },
  {
   "cell_type": "code",
   "execution_count": null,
   "id": "84504a68",
   "metadata": {},
   "outputs": [],
   "source": [
    "sz = scipy.linalg.eig(arr5)"
   ]
  },
  {
   "cell_type": "code",
   "execution_count": null,
   "id": "4f32d75a",
   "metadata": {},
   "outputs": [],
   "source": [
    "obr = scipy.linalg.inv(arr5)"
   ]
  },
  {
   "cell_type": "code",
   "execution_count": 18,
   "id": "7d6618f0",
   "metadata": {},
   "outputs": [
    {
     "data": {
      "text/plain": [
       "Text(0.5, 0, 'Это x')"
      ]
     },
     "execution_count": 18,
     "metadata": {},
     "output_type": "execute_result"
    },
    {
     "data": {
      "image/png": "[encoded data removed]",
      "text/plain": [
       "<Figure size 432x288 with 1 Axes>"
      ]
     },
     "metadata": {
      "needs_background": "light"
     },
     "output_type": "display_data"
    }
   ],
   "source": [
    "x=np.arange(-2 * np.pi, 2 * np.pi, 0.1)\n",
    "y = np.sin(x)\n",
    "plt.figure()\n",
    "plt.plot(x, y)\n",
    "plt.grid()\n",
    "plt.title('sin x')\n",
    "plt.ylabel('Это y')\n",
    "plt.xlabel('Это x')"
   ]
  },
  {
   "cell_type": "code",
   "execution_count": 48,
   "id": "6a88247b",
   "metadata": {},
   "outputs": [
    {
     "data": {
      "text/plain": [
       "Text(0.5, 0, 'Это x')"
      ]
     },
     "execution_count": 48,
     "metadata": {},
     "output_type": "execute_result"
    },
    {
     "data": {
      "image/png": "[encoded data removed]",
      "text/plain": [
       "<Figure size 1008x1008 with 2 Axes>"
      ]
     },
     "metadata": {
      "needs_background": "light"
     },
     "output_type": "display_data"
    }
   ],
   "source": [
    "x=np.arange(-2 * np.pi, 2 * np.pi, 0.1)\n",
    "y = np.cos(x)\n",
    "y1 = np.sin(x)\n",
    "plt.figure(figsize=(14,14))\n",
    "plt.subplot(3, 3, 2)\n",
    "plt.plot(x, y, color='red')\n",
    "plt.title('cos x')\n",
    "plt.ylabel('Это y')\n",
    "plt.xlabel('Это x')\n",
    "\n",
    "plt.grid()\n",
    "plt.subplot(3, 3, 1)\n",
    "plt.plot(x, y1)\n",
    "plt.grid()\n",
    "plt.title('sin x')\n",
    "plt.ylabel('Это y')\n",
    "plt.xlabel('Это x')"
   ]
  },
  {
   "cell_type": "code",
   "execution_count": null,
   "id": "2516ec9a",
   "metadata": {},
   "outputs": [],
   "source": []
  }
 ],
 "metadata": {
  "kernelspec": {
   "display_name": "Python 3 (ipykernel)",
   "language": "python",
   "name": "python3"
  },
  "language_info": {
   "codemirror_mode": {
    "name": "ipython",
    "version": 3
   },
   "file_extension": ".py",
   "mimetype": "text/x-python",
   "name": "python",
   "nbconvert_exporter": "python",
   "pygments_lexer": "ipython3",
   "version": "3.9.12"
  }
 },
 "nbformat": 4,
 "nbformat_minor": 5
}
